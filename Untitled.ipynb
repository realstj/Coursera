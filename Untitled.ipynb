{
 "cells": [
  {
   "cell_type": "code",
   "execution_count": 3,
   "id": "02e748fa-3c41-4a60-b9b1-fcfd124d2035",
   "metadata": {},
   "outputs": [
    {
     "data": {
      "text/plain": [
       "3"
      ]
     },
     "execution_count": 3,
     "metadata": {},
     "output_type": "execute_result"
    }
   ],
   "source": [
    "int(3.99)"
   ]
  },
  {
   "cell_type": "code",
   "execution_count": 4,
   "id": "a484146d-cc56-424c-86f6-09010faa3d59",
   "metadata": {},
   "outputs": [
    {
     "data": {
      "text/plain": [
       "6"
      ]
     },
     "execution_count": 4,
     "metadata": {},
     "output_type": "execute_result"
    }
   ],
   "source": [
    "25//4"
   ]
  },
  {
   "cell_type": "code",
   "execution_count": 5,
   "id": "086dd2b4-f46e-481f-8a3d-7901f7a81686",
   "metadata": {},
   "outputs": [
    {
     "data": {
      "text/plain": [
       "5"
      ]
     },
     "execution_count": 5,
     "metadata": {},
     "output_type": "execute_result"
    }
   ],
   "source": [
    "11//2"
   ]
  },
  {
   "cell_type": "code",
   "execution_count": 7,
   "id": "2a10d664-d70b-4bb7-8bee-1df093c43b71",
   "metadata": {},
   "outputs": [
    {
     "data": {
      "text/plain": [
       "2.0"
      ]
     },
     "execution_count": 7,
     "metadata": {},
     "output_type": "execute_result"
    }
   ],
   "source": [
    "x=4\n",
    "x=x/2\n",
    "x"
   ]
  },
  {
   "cell_type": "code",
   "execution_count": 8,
   "id": "f00341c1-262e-41a8-872a-540ec603c96c",
   "metadata": {},
   "outputs": [
    {
     "data": {
      "text/plain": [
       "'n'"
      ]
     },
     "execution_count": 8,
     "metadata": {},
     "output_type": "execute_result"
    }
   ],
   "source": [
    "Name = 'Michael Jackson'\n",
    "Name[-1]"
   ]
  },
  {
   "cell_type": "code",
   "execution_count": 9,
   "id": "c42edadc-14f9-4f74-a93d-c48a33966c59",
   "metadata": {},
   "outputs": [
    {
     "name": "stdout",
     "output_type": "stream",
     "text": [
      "AB\n",
      "C\n",
      "DE\n"
     ]
    }
   ],
   "source": [
    "print(\"AB\\nC\\nDE\")"
   ]
  },
  {
   "cell_type": "code",
   "execution_count": 10,
   "id": "be09a92e-bb8d-49b8-a962-70148315a820",
   "metadata": {},
   "outputs": [
    {
     "data": {
      "text/plain": [
       "5"
      ]
     },
     "execution_count": 10,
     "metadata": {},
     "output_type": "execute_result"
    }
   ],
   "source": [
    "\"helloMike\".find(\"Mike\")"
   ]
  },
  {
   "cell_type": "code",
   "execution_count": 11,
   "id": "ff1b4d09-0926-4c57-a33c-63355eec5f00",
   "metadata": {},
   "outputs": [
    {
     "data": {
      "text/plain": [
       "int"
      ]
     },
     "execution_count": 11,
     "metadata": {},
     "output_type": "execute_result"
    }
   ],
   "source": [
    "type(int(12.3))"
   ]
  },
  {
   "cell_type": "code",
   "execution_count": 12,
   "id": "e5471748-be25-4f82-8aa4-48acc7500435",
   "metadata": {},
   "outputs": [
    {
     "data": {
      "text/plain": [
       "0"
      ]
     },
     "execution_count": 12,
     "metadata": {},
     "output_type": "execute_result"
    }
   ],
   "source": [
    "int(False)"
   ]
  },
  {
   "cell_type": "code",
   "execution_count": 13,
   "id": "9eca3f10-b671-4e3f-9f05-2a7bfbfcf377",
   "metadata": {},
   "outputs": [
    {
     "data": {
      "text/plain": [
       "'12'"
      ]
     },
     "execution_count": 13,
     "metadata": {},
     "output_type": "execute_result"
    }
   ],
   "source": [
    "'1'+'2'"
   ]
  },
  {
   "cell_type": "code",
   "execution_count": 14,
   "id": "1a9b031b-ff5c-42dc-80b1-fce93dd6f7d6",
   "metadata": {},
   "outputs": [
    {
     "data": {
      "text/plain": [
       "'11'"
      ]
     },
     "execution_count": 14,
     "metadata": {},
     "output_type": "execute_result"
    }
   ],
   "source": [
    "str(1)+str(1)"
   ]
  },
  {
   "cell_type": "code",
   "execution_count": 15,
   "id": "88ddd76c-39f9-4898-a2ef-e5d8114e340e",
   "metadata": {},
   "outputs": [
    {
     "data": {
      "text/plain": [
       "'ab3'"
      ]
     },
     "execution_count": 15,
     "metadata": {},
     "output_type": "execute_result"
    }
   ],
   "source": [
    "\"123\".replace(\"12\", \"ab\")"
   ]
  },
  {
   "cell_type": "code",
   "execution_count": 16,
   "id": "7a747b42-dd4e-4109-9128-02cf2cd04775",
   "metadata": {},
   "outputs": [
    {
     "data": {
      "text/plain": [
       "'HELLO'"
      ]
     },
     "execution_count": 16,
     "metadata": {},
     "output_type": "execute_result"
    }
   ],
   "source": [
    "'hello'.upper()\n",
    "\n"
   ]
  },
  {
   "cell_type": "code",
   "execution_count": 18,
   "id": "d86f3382-f75e-452b-a77a-14bbb372286d",
   "metadata": {},
   "outputs": [
    {
     "data": {
      "text/plain": [
       "float"
      ]
     },
     "execution_count": 18,
     "metadata": {},
     "output_type": "execute_result"
    }
   ],
   "source": [
    "x = 1/1\n",
    "type(x)"
   ]
  },
  {
   "cell_type": "code",
   "execution_count": 19,
   "id": "20801ffd-9272-48db-a7ea-9676a2650917",
   "metadata": {},
   "outputs": [
    {
     "data": {
      "text/plain": [
       "'Python'"
      ]
     },
     "execution_count": 19,
     "metadata": {},
     "output_type": "execute_result"
    }
   ],
   "source": [
    "x = 'Fun Python'\n",
    "x[4:10]"
   ]
  },
  {
   "cell_type": "code",
   "execution_count": 20,
   "id": "03304438-bc8f-4a7e-9b2a-d0920a3e591b",
   "metadata": {},
   "outputs": [
    {
     "data": {
      "text/plain": [
       "'will'"
      ]
     },
     "execution_count": 20,
     "metadata": {},
     "output_type": "execute_result"
    }
   ],
   "source": [
    "say_what=('say','what','you','will') \n",
    "say_what[-1]"
   ]
  },
  {
   "cell_type": "code",
   "execution_count": 21,
   "id": "27d6c8fa-b10f-4bb6-a636-a2972c18973a",
   "metadata": {},
   "outputs": [
    {
     "data": {
      "text/plain": [
       "(2, 3, 4)"
      ]
     },
     "execution_count": 21,
     "metadata": {},
     "output_type": "execute_result"
    }
   ],
   "source": [
    "A=(1,2,3,4,5)\n",
    "A[1:4]"
   ]
  },
  {
   "cell_type": "code",
   "execution_count": 22,
   "id": "2121f307-98f9-44d7-9574-d43f3ad452b0",
   "metadata": {},
   "outputs": [
    {
     "data": {
      "text/plain": [
       "'b'"
      ]
     },
     "execution_count": 22,
     "metadata": {},
     "output_type": "execute_result"
    }
   ],
   "source": [
    "B=[1,2,[3,'a'],[4,'b']]\n",
    "B[3][1]"
   ]
  },
  {
   "cell_type": "code",
   "execution_count": 23,
   "id": "f2cc2b09-b595-43ee-81b8-add78e51fae1",
   "metadata": {},
   "outputs": [
    {
     "data": {
      "text/plain": [
       "[1, 2, 3, 1, 1, 1]"
      ]
     },
     "execution_count": 23,
     "metadata": {},
     "output_type": "execute_result"
    }
   ],
   "source": [
    "[1,2,3] + [1,1,1]"
   ]
  },
  {
   "cell_type": "code",
   "execution_count": 28,
   "id": "68b31d40-d546-420c-b9f8-46ac3f7538aa",
   "metadata": {},
   "outputs": [
    {
     "data": {
      "text/plain": [
       "2"
      ]
     },
     "execution_count": 28,
     "metadata": {},
     "output_type": "execute_result"
    }
   ],
   "source": [
    "A=[1]\n",
    "A.append([2,3,4,5])\n",
    "len(A)"
   ]
  },
  {
   "cell_type": "code",
   "execution_count": 32,
   "id": "a303bf48-4f8e-4733-8348-7164bf7d4fcc",
   "metadata": {},
   "outputs": [
    {
     "data": {
      "text/plain": [
       "['a', 'b']"
      ]
     },
     "execution_count": 32,
     "metadata": {},
     "output_type": "execute_result"
    }
   ],
   "source": [
    "list({\"a\":1,\"b\":2}.keys())"
   ]
  },
  {
   "cell_type": "code",
   "execution_count": 30,
   "id": "e8c73606-3793-4685-85c7-98ce912d0d72",
   "metadata": {},
   "outputs": [
    {
     "data": {
      "text/plain": [
       "(4, 4, 4)"
      ]
     },
     "execution_count": 30,
     "metadata": {},
     "output_type": "execute_result"
    }
   ],
   "source": [
    "Dict={\"A\":1,\"B\":\"2\",\"C\":[3,3,3],\"D\":(4,4,4),'E':5,'F':6}\n",
    "Dict[\"D\"]"
   ]
  },
  {
   "cell_type": "code",
   "execution_count": 34,
   "id": "7fcbae99-1a90-4a16-af55-87403ce7d0a9",
   "metadata": {},
   "outputs": [
    {
     "data": {
      "text/plain": [
       "{1, 2, 3, 4, 5}"
      ]
     },
     "execution_count": 34,
     "metadata": {},
     "output_type": "execute_result"
    }
   ],
   "source": [
    "A={1,2, 3, 4}\n",
    "A.add(5)\n",
    "A"
   ]
  },
  {
   "cell_type": "code",
   "execution_count": 35,
   "id": "e44e142a-b523-45c3-b003-334080f52fd3",
   "metadata": {},
   "outputs": [
    {
     "data": {
      "text/plain": [
       "{'a'}"
      ]
     },
     "execution_count": 35,
     "metadata": {},
     "output_type": "execute_result"
    }
   ],
   "source": [
    "{'a','b'} &{'a'}"
   ]
  },
  {
   "cell_type": "code",
   "execution_count": 36,
   "id": "01c78922-8bcc-432e-819f-b5e658d7eefb",
   "metadata": {},
   "outputs": [
    {
     "data": {
      "text/plain": [
       "12"
      ]
     },
     "execution_count": 36,
     "metadata": {},
     "output_type": "execute_result"
    }
   ],
   "source": [
    "A=((11,12),[21,22]) \n",
    "A[0][1]"
   ]
  },
  {
   "cell_type": "code",
   "execution_count": 37,
   "id": "8a05b107-36eb-4642-ba0a-d27ddb52eb3b",
   "metadata": {},
   "outputs": [
    {
     "data": {
      "text/plain": [
       "[4]"
      ]
     },
     "execution_count": 37,
     "metadata": {},
     "output_type": "execute_result"
    }
   ],
   "source": [
    "A=((1),[2,3],[4])\n",
    "A[2]"
   ]
  },
  {
   "cell_type": "code",
   "execution_count": 40,
   "id": "896ab71a-ea62-4f9f-bb0b-e31636a650d8",
   "metadata": {},
   "outputs": [
    {
     "data": {
      "text/plain": [
       "['c', 'd', ['a', 'b']]"
      ]
     },
     "execution_count": 40,
     "metadata": {},
     "output_type": "execute_result"
    }
   ],
   "source": [
    "L = ['c', 'd']\n",
    "L.append(['a', 'b'])\n",
    "L"
   ]
  },
  {
   "cell_type": "code",
   "execution_count": 42,
   "id": "1d928f94-16f7-400a-9dbb-63512df58133",
   "metadata": {},
   "outputs": [
    {
     "data": {
      "text/plain": [
       "['hard rock', 1.2]"
      ]
     },
     "execution_count": 42,
     "metadata": {},
     "output_type": "execute_result"
    }
   ],
   "source": [
    "A=[\"hard rock\",10,1.2]\n",
    "del(A[1])\n",
    "A"
   ]
  },
  {
   "cell_type": "code",
   "execution_count": 43,
   "id": "5a3067e1-2b3b-47aa-b57a-3fc7ea31d5ea",
   "metadata": {},
   "outputs": [
    {
     "data": {
      "text/plain": [
       "2"
      ]
     },
     "execution_count": 43,
     "metadata": {},
     "output_type": "execute_result"
    }
   ],
   "source": [
    "len((\"disco\",10))"
   ]
  },
  {
   "cell_type": "code",
   "execution_count": 45,
   "id": "6bf36fa0-cf26-47c3-862d-5301725fd753",
   "metadata": {},
   "outputs": [
    {
     "data": {
      "text/plain": [
       "{'1', '2', '3'}"
      ]
     },
     "execution_count": 45,
     "metadata": {},
     "output_type": "execute_result"
    }
   ],
   "source": [
    "V={'1','2'}\n",
    "V.add('3')\n",
    "V"
   ]
  },
  {
   "cell_type": "code",
   "execution_count": 46,
   "id": "77780370-6102-4db5-8c9a-c7b0a0876772",
   "metadata": {},
   "outputs": [
    {
     "data": {
      "text/plain": [
       "True"
      ]
     },
     "execution_count": 46,
     "metadata": {},
     "output_type": "execute_result"
    }
   ],
   "source": [
    " '1' in {'1','2'} "
   ]
  },
  {
   "cell_type": "code",
   "execution_count": 47,
   "id": "0f6a835f-ed61-4c4f-af88-95a8a57564f2",
   "metadata": {},
   "outputs": [
    {
     "ename": "SyntaxError",
     "evalue": "cannot assign to literal here. Maybe you meant '==' instead of '='? (3293032332.py, line 1)",
     "output_type": "error",
     "traceback": [
      "\u001b[0;36m  Cell \u001b[0;32mIn[47], line 1\u001b[0;36m\u001b[0m\n\u001b[0;31m    1=2\u001b[0m\n\u001b[0m    ^\u001b[0m\n\u001b[0;31mSyntaxError\u001b[0m\u001b[0;31m:\u001b[0m cannot assign to literal here. Maybe you meant '==' instead of '='?\n"
     ]
    }
   ],
   "source": [
    "1=2"
   ]
  },
  {
   "cell_type": "code",
   "execution_count": 48,
   "id": "b256a04d-01f8-4cf8-aa74-e440c7299f41",
   "metadata": {},
   "outputs": [
    {
     "data": {
      "text/plain": [
       "False"
      ]
     },
     "execution_count": 48,
     "metadata": {},
     "output_type": "execute_result"
    }
   ],
   "source": [
    "i=6\n",
    "\n",
    "i<5"
   ]
  },
  {
   "cell_type": "code",
   "execution_count": 50,
   "id": "4de80752-df38-4ab7-a5a3-5be77e762bbb",
   "metadata": {},
   "outputs": [
    {
     "data": {
      "text/plain": [
       "False"
      ]
     },
     "execution_count": 50,
     "metadata": {},
     "output_type": "execute_result"
    }
   ],
   "source": [
    "'a'=='A'"
   ]
  },
  {
   "cell_type": "code",
   "execution_count": 51,
   "id": "891fdf09-9202-4f29-80c9-9377dfbebbf6",
   "metadata": {},
   "outputs": [
    {
     "name": "stdout",
     "output_type": "stream",
     "text": [
      "0\n",
      "1\n",
      "2\n"
     ]
    }
   ],
   "source": [
    "for x in range(0, 3):\n",
    "    print(x)"
   ]
  },
  {
   "cell_type": "code",
   "execution_count": 52,
   "id": "2c64deb5-78bb-432f-82fb-ee3526e8a9ee",
   "metadata": {},
   "outputs": [
    {
     "name": "stdout",
     "output_type": "stream",
     "text": [
      "AA\n",
      "BA\n",
      "CA\n"
     ]
    }
   ],
   "source": [
    "for x in ['A', 'B', 'C']:\n",
    "    print(x + 'A')"
   ]
  },
  {
   "cell_type": "code",
   "execution_count": 53,
   "id": "46a64370-a145-4db4-adc9-4c81ce49c541",
   "metadata": {},
   "outputs": [
    {
     "name": "stdout",
     "output_type": "stream",
     "text": [
      "0 A\n",
      "1 B\n",
      "2 C\n"
     ]
    }
   ],
   "source": [
    "for i, x in enumerate(['A', 'B', 'C']):\n",
    "    print(i, x)\n"
   ]
  },
  {
   "cell_type": "code",
   "execution_count": 54,
   "id": "8f5f6bce-1596-4235-a682-5216f25cfdd5",
   "metadata": {},
   "outputs": [
    {
     "data": {
      "text/plain": [
       "3"
      ]
     },
     "execution_count": 54,
     "metadata": {},
     "output_type": "execute_result"
    }
   ],
   "source": [
    " len(['A','B',1])"
   ]
  },
  {
   "cell_type": "code",
   "execution_count": 55,
   "id": "a82561f9-e6ec-4ff3-8844-da1789b36368",
   "metadata": {},
   "outputs": [
    {
     "data": {
      "text/plain": [
       "1"
      ]
     },
     "execution_count": 55,
     "metadata": {},
     "output_type": "execute_result"
    }
   ],
   "source": [
    "len([sum([1,1,1])])"
   ]
  },
  {
   "cell_type": "code",
   "execution_count": 56,
   "id": "c987ae81-ffc2-49fc-a3da-f4886e2c71b6",
   "metadata": {},
   "outputs": [
    {
     "data": {
      "text/plain": [
       "[1, 2, 3]"
      ]
     },
     "execution_count": 56,
     "metadata": {},
     "output_type": "execute_result"
    }
   ],
   "source": [
    "L=[1,3,2]\n",
    "\n",
    "sorted(L) "
   ]
  },
  {
   "cell_type": "code",
   "execution_count": 57,
   "id": "26b7d680-bd8f-490a-a31f-501bcd7d2783",
   "metadata": {},
   "outputs": [
    {
     "name": "stdout",
     "output_type": "stream",
     "text": [
      "a1\n",
      "b1\n",
      "c1\n"
     ]
    }
   ],
   "source": [
    "def print_function(A):\n",
    "    for a in A:\n",
    "        print(a + '1')\n",
    "print_function(['a', 'b', 'c'])"
   ]
  },
  {
   "cell_type": "code",
   "execution_count": 58,
   "id": "6eeedb0f-91a7-4ff3-a8d5-dc532fe309ec",
   "metadata": {},
   "outputs": [
    {
     "name": "stdin",
     "output_type": "stream",
     "text": [
      "Please enter a number to divide a:  0\n"
     ]
    },
    {
     "name": "stdout",
     "output_type": "stream",
     "text": [
      "There was an error\n"
     ]
    }
   ],
   "source": [
    "a = 1\n",
    "try:\n",
    "    b = int(input(\"Please enter a number to divide a: \"))\n",
    "    a = a / b\n",
    "    print(\"Success a =\", a)\n",
    "except:\n",
    "    print(\"There was an error\")"
   ]
  },
  {
   "cell_type": "code",
   "execution_count": 59,
   "id": "ab183e1d-0d99-4bef-8533-6c48c957ce58",
   "metadata": {},
   "outputs": [],
   "source": [
    "class Circle(object):\n",
    "    # Constructor\n",
    "    def __init__(self, radius=3, color='blue'):\n",
    "        self.radius = radius\n",
    "        self.color = color\n",
    "\n",
    "\n",
    "    # Method\n",
    "    def add_radius(self, r):\n",
    "        self.radius = self.radius + r\n",
    "        return self.radius"
   ]
  },
  {
   "cell_type": "code",
   "execution_count": 61,
   "id": "a165dc84-33b7-4eef-882e-6f8872e5694f",
   "metadata": {},
   "outputs": [
    {
     "data": {
      "text/plain": [
       "<__main__.Circle at 0x16e150750>"
      ]
     },
     "execution_count": 61,
     "metadata": {},
     "output_type": "execute_result"
    }
   ],
   "source": [
    "C1 = Circle(4, 'yellow')\n",
    "C1"
   ]
  },
  {
   "cell_type": "code",
   "execution_count": 62,
   "id": "5a7d6caa-92a9-49f7-9eaf-6a084b8bdaf2",
   "metadata": {},
   "outputs": [],
   "source": [
    "class Circle(object):\n",
    "    # Constructor\n",
    "    def __init__(self, radius=3, color='blue'):\n",
    "        self.radius = radius\n",
    "        self.color = color\n",
    "        \n",
    "    # Method\n",
    "    def add_radius(self, r):\n",
    "        self.radius = self.radius + r\n",
    "        return self.radius"
   ]
  },
  {
   "cell_type": "code",
   "execution_count": 66,
   "id": "c191c5f7-f515-4b50-b3ba-c9bdf1254482",
   "metadata": {},
   "outputs": [
    {
     "data": {
      "text/plain": [
       "'blue'"
      ]
     },
     "execution_count": 66,
     "metadata": {},
     "output_type": "execute_result"
    }
   ],
   "source": [
    "CircleObject = Circle()\n",
    "\n",
    "CircleObject.radius = 10\n",
    "CircleObject.color"
   ]
  },
  {
   "cell_type": "code",
   "execution_count": 67,
   "id": "d0a3c0bf-a8de-4a66-98d1-26b292662cd5",
   "metadata": {},
   "outputs": [],
   "source": [
    "class Vehicle:\n",
    "    color = \"white\"\n",
    "\n",
    "\n",
    "    def __init__(self, max_speed, mileage):\n",
    "        self.max_speed = max_speed\n",
    "        self.mileage = mileage\n",
    "        self.seating_capacity = None\n",
    "\n",
    "\n",
    "    def assign_seating_capacity(self, seating_capacity):\n",
    "        self.seating_capacity = seating_capacity\n",
    "\n",
    "\n",
    "V1 = Vehicle(150, 25)"
   ]
  },
  {
   "cell_type": "code",
   "execution_count": 69,
   "id": "cad4696b-3b13-47d6-a457-d9fe1b3080db",
   "metadata": {},
   "outputs": [
    {
     "data": {
      "text/plain": [
       "'white'"
      ]
     },
     "execution_count": 69,
     "metadata": {},
     "output_type": "execute_result"
    }
   ],
   "source": [
    "V1.color"
   ]
  },
  {
   "cell_type": "code",
   "execution_count": 70,
   "id": "18a3c772-ef9e-4023-b548-48806763df5a",
   "metadata": {},
   "outputs": [
    {
     "name": "stdout",
     "output_type": "stream",
     "text": [
      "80\n"
     ]
    }
   ],
   "source": [
    "class Graph():\n",
    "    def __init__(self, id):\n",
    "        self.id = id\n",
    "        self.id = 80\n",
    "\n",
    "\n",
    "val = Graph(200)\n",
    "print(val.id)\n"
   ]
  },
  {
   "cell_type": "code",
   "execution_count": 71,
   "id": "07898e45-1651-4d14-b37a-957bf667ac10",
   "metadata": {},
   "outputs": [
    {
     "name": "stdout",
     "output_type": "stream",
     "text": [
      "Stop\n",
      "Mike\n"
     ]
    }
   ],
   "source": [
    "x = \"Gone\" \n",
    "if x == \"Go\": \n",
    "    print('Go') \n",
    "else: \n",
    "    print('Stop') \n",
    "print('Mike')"
   ]
  },
  {
   "cell_type": "code",
   "execution_count": 73,
   "id": "09c6d984-910d-4a52-8a31-3d18300621c1",
   "metadata": {},
   "outputs": [
    {
     "data": {
      "text/plain": [
       "False"
      ]
     },
     "execution_count": 73,
     "metadata": {},
     "output_type": "execute_result"
    }
   ],
   "source": [
    "x = 1 \n",
    "x = x > 5\n",
    "x"
   ]
  },
  {
   "cell_type": "code",
   "execution_count": 74,
   "id": "4fb6b8a2-36de-4df4-aa46-17e7d581f908",
   "metadata": {},
   "outputs": [
    {
     "name": "stdout",
     "output_type": "stream",
     "text": [
      "0\n",
      "1\n"
     ]
    }
   ],
   "source": [
    "x = 0 \n",
    "while x < 2: \n",
    "    print(x) \n",
    "    x = x + 1"
   ]
  },
  {
   "cell_type": "code",
   "execution_count": 75,
   "id": "df7e61eb-e289-4d9e-9b4b-f619a2f8b151",
   "metadata": {},
   "outputs": [
    {
     "name": "stdout",
     "output_type": "stream",
     "text": [
      "x= A  y= B\n"
     ]
    }
   ],
   "source": [
    "class Points(object):\n",
    "    def __init__(self, x, y):\n",
    "        self.x = x \n",
    "        self.y = y \n",
    "\n",
    "\n",
    "    def print_point(self): \n",
    "        print('x=', self.x, ' y=', self.y) \n",
    "\n",
    "\n",
    "p1 = Points(\"A\", \"B\") \n",
    "p1.print_point()\n"
   ]
  },
  {
   "cell_type": "code",
   "execution_count": 76,
   "id": "a78247cf-6c6a-4c6a-ba71-11261da87dd8",
   "metadata": {},
   "outputs": [
    {
     "name": "stdout",
     "output_type": "stream",
     "text": [
      "0 AA\n",
      "1 BB\n",
      "2 CC\n"
     ]
    }
   ],
   "source": [
    "for i, x in enumerate(['A', 'B', 'C']): \n",
    "    print(i, 2 * x)\n"
   ]
  },
  {
   "cell_type": "code",
   "execution_count": 80,
   "id": "42fa25ae-c96b-4004-898b-210051985c02",
   "metadata": {},
   "outputs": [
    {
     "data": {
      "text/plain": [
       "2"
      ]
     },
     "execution_count": 80,
     "metadata": {},
     "output_type": "execute_result"
    }
   ],
   "source": [
    "class Points(object): \n",
    "    def __init__(self, x, y): \n",
    "        self.x = x \n",
    "        self.y = y \n",
    "    def print_point(self): \n",
    "        print('x=', self.x, ' y=', self.y) \n",
    "\n",
    "\n",
    "p2 = Points(1, 2) \n",
    "p2.x = 2 \n",
    "p2.y"
   ]
  },
  {
   "cell_type": "code",
   "execution_count": 81,
   "id": "b5f6c9cb-362c-4d99-86ba-4e16227988c2",
   "metadata": {},
   "outputs": [
    {
     "name": "stdout",
     "output_type": "stream",
     "text": [
      "101\n"
     ]
    }
   ],
   "source": [
    " a = 1 \n",
    "def do(x): \n",
    "    a = 100 \n",
    "    return x + a \n",
    "\n",
    "\n",
    "print(do(1))"
   ]
  },
  {
   "cell_type": "code",
   "execution_count": 82,
   "id": "45f65b9a-bd72-4a3d-832f-00606356838d",
   "metadata": {},
   "outputs": [
    {
     "name": "stdout",
     "output_type": "stream",
     "text": [
      "5\n",
      "4\n",
      "3\n"
     ]
    }
   ],
   "source": [
    "x = 5 \n",
    "while x != 2: \n",
    "    print(x) \n",
    "    x = x - 1 \n"
   ]
  },
  {
   "cell_type": "code",
   "execution_count": 83,
   "id": "cbaec807-9e65-46af-9085-674369011f4e",
   "metadata": {},
   "outputs": [
    {
     "name": "stdout",
     "output_type": "stream",
     "text": [
      "x= A  y= B\n"
     ]
    }
   ],
   "source": [
    "class Points(object):\n",
    "    def __init__(self, x, y):\n",
    "        self.x = x \n",
    "        self.y = y \n",
    "\n",
    "\n",
    "    def print_point(self): \n",
    "        print('x=', self.x, ' y=', self.y) \n",
    "\n",
    "\n",
    "p1 = Points(\"A\", \"B\") \n",
    "p1.print_point()"
   ]
  },
  {
   "cell_type": "code",
   "execution_count": 84,
   "id": "ea0f0d90-fdd9-4200-9764-898a229bf240",
   "metadata": {},
   "outputs": [
    {
     "name": "stdout",
     "output_type": "stream",
     "text": [
      "0 AA\n",
      "1 BB\n",
      "2 CC\n"
     ]
    }
   ],
   "source": [
    "for i, x in enumerate(['A', 'B', 'C']): \n",
    "    print(i, 2 * x)\n"
   ]
  },
  {
   "cell_type": "code",
   "execution_count": 85,
   "id": "4b612cbe-a233-4983-b9a0-fbd129223f4e",
   "metadata": {},
   "outputs": [],
   "source": [
    "class Points(object): \n",
    "    def __init__(self, x, y): \n",
    "        self.x = x \n",
    "        self.y = y \n",
    "    def print_point(self): \n",
    "        print('x=', self.x, ' y=', self.y) \n",
    "\n",
    "\n",
    "p2 = Points(1, 2) \n",
    "p2.x = 2 "
   ]
  },
  {
   "cell_type": "code",
   "execution_count": 86,
   "id": "08ac3ca3-4214-47eb-abdd-5346538d0316",
   "metadata": {},
   "outputs": [
    {
     "name": "stdout",
     "output_type": "stream",
     "text": [
      "0\n",
      "1\n"
     ]
    }
   ],
   "source": [
    "x = 0 \n",
    "while x < 2: \n",
    "    print(x) \n",
    "    x = x + 1"
   ]
  },
  {
   "cell_type": "code",
   "execution_count": 87,
   "id": "dcc52c5c-5c3e-4b11-a6db-6cc9e2c50266",
   "metadata": {},
   "outputs": [
    {
     "name": "stdout",
     "output_type": "stream",
     "text": [
      "x= A  y= B\n"
     ]
    }
   ],
   "source": [
    "class Points(object):\n",
    "    def __init__(self, x, y):\n",
    "        self.x = x \n",
    "        self.y = y \n",
    "\n",
    "\n",
    "    def print_point(self): \n",
    "        print('x=', self.x, ' y=', self.y) \n",
    "\n",
    "\n",
    "p1 = Points(\"A\", \"B\") \n",
    "p1.print_point()\n"
   ]
  },
  {
   "cell_type": "code",
   "execution_count": 88,
   "id": "ff0f6c7b-4eea-4c7c-9ac8-29b9006d02ff",
   "metadata": {},
   "outputs": [
    {
     "name": "stdout",
     "output_type": "stream",
     "text": [
      "0 AA\n",
      "1 BB\n",
      "2 CC\n"
     ]
    }
   ],
   "source": [
    "for i, x in enumerate(['A', 'B', 'C']): \n",
    "    print(i, 2 * x)\n"
   ]
  },
  {
   "cell_type": "code",
   "execution_count": 89,
   "id": "866ad078-4a24-45d1-bcb4-a1850efb74c7",
   "metadata": {},
   "outputs": [
    {
     "name": "stdout",
     "output_type": "stream",
     "text": [
      "x= A  y= 2\n"
     ]
    }
   ],
   "source": [
    "class Points(object): \n",
    "    def __init__(self, x, y): \n",
    "        self.x = x \n",
    "        self.y = y \n",
    "    def print_point(self): \n",
    "        print('x=', self.x, ' y=', self.y) \n",
    "\n",
    "\n",
    "p2 = Points(1, 2) \n",
    "p2.x = 'A' \n",
    "p2.print_point()\n"
   ]
  },
  {
   "cell_type": "code",
   "execution_count": 90,
   "id": "acd85db4-eaa9-46d9-9bb4-54a83b8f2ae5",
   "metadata": {},
   "outputs": [
    {
     "name": "stdout",
     "output_type": "stream",
     "text": [
      "2\n"
     ]
    }
   ],
   "source": [
    "a = 1 \n",
    "\n",
    "\n",
    "def do(x): \n",
    "    return x + a \n",
    "\n",
    "\n",
    "print(do(1))\n"
   ]
  },
  {
   "cell_type": "code",
   "execution_count": 91,
   "id": "494817f1-1172-44bc-a112-8fcb4482778f",
   "metadata": {},
   "outputs": [],
   "source": [
    "import numpy as np"
   ]
  },
  {
   "cell_type": "code",
   "execution_count": 92,
   "id": "8246c5e8-c5f6-4bce-91c6-0342938ad6fa",
   "metadata": {},
   "outputs": [
    {
     "data": {
      "text/plain": [
       "0"
      ]
     },
     "execution_count": 92,
     "metadata": {},
     "output_type": "execute_result"
    }
   ],
   "source": [
    "a=np.array([0,1]) \n",
    "\n",
    "b=np.array([1,0]) \n",
    "\n",
    "np.dot(a,b) "
   ]
  },
  {
   "cell_type": "code",
   "execution_count": 93,
   "id": "21efd124-d5f6-467d-9f35-517419b1917c",
   "metadata": {},
   "outputs": [],
   "source": [
    "X=np.array([[1,0,1],[2,2,2]]) \n",
    "\n",
    "out=X[0:2,2]"
   ]
  },
  {
   "cell_type": "code",
   "execution_count": 94,
   "id": "cdd85d1f-4553-4325-97e7-26ff43d97a95",
   "metadata": {},
   "outputs": [
    {
     "data": {
      "text/plain": [
       "array([1, 2])"
      ]
     },
     "execution_count": 94,
     "metadata": {},
     "output_type": "execute_result"
    }
   ],
   "source": [
    "out"
   ]
  },
  {
   "cell_type": "code",
   "execution_count": 95,
   "id": "d37d1ad2-1d7f-4e87-b8f2-c049fdf084a5",
   "metadata": {},
   "outputs": [],
   "source": [
    "X=np.array([[1,0],[0,1]]) \n",
    "\n",
    "Y=np.array([[2,1],[1,2]]) \n",
    "\n",
    "Z=np.dot(X,Y) "
   ]
  },
  {
   "cell_type": "code",
   "execution_count": 96,
   "id": "db90bd91-cd41-4eea-bbeb-6ed8bdf7c3cf",
   "metadata": {},
   "outputs": [
    {
     "data": {
      "text/plain": [
       "array([[2, 1],\n",
       "       [1, 2]])"
      ]
     },
     "execution_count": 96,
     "metadata": {},
     "output_type": "execute_result"
    }
   ],
   "source": [
    "Z"
   ]
  },
  {
   "cell_type": "code",
   "execution_count": 97,
   "id": "a70db925-5497-409d-bddc-576a8b5f7562",
   "metadata": {},
   "outputs": [
    {
     "data": {
      "text/plain": [
       "0"
      ]
     },
     "execution_count": 97,
     "metadata": {},
     "output_type": "execute_result"
    }
   ],
   "source": [
    "1//2"
   ]
  },
  {
   "cell_type": "code",
   "execution_count": 98,
   "id": "af6b7966-3385-41a7-b75b-de67292fd9ad",
   "metadata": {},
   "outputs": [
    {
     "data": {
      "text/plain": [
       "'a'"
      ]
     },
     "execution_count": 98,
     "metadata": {},
     "output_type": "execute_result"
    }
   ],
   "source": [
    "A=('a','b','c')\n",
    "\n",
    "A[0]"
   ]
  },
  {
   "cell_type": "code",
   "execution_count": 99,
   "id": "fb4bf5af-2a89-495f-b997-dee25212f4f3",
   "metadata": {},
   "outputs": [
    {
     "data": {
      "text/plain": [
       "['1', '2', '3', '4']"
      ]
     },
     "execution_count": 99,
     "metadata": {},
     "output_type": "execute_result"
    }
   ],
   "source": [
    "'1,2,3,4'.split(',')"
   ]
  },
  {
   "cell_type": "code",
   "execution_count": 101,
   "id": "b688b4a0-1c0c-4dc0-ba41-0adb7c7b4b1f",
   "metadata": {},
   "outputs": [
    {
     "name": "stdout",
     "output_type": "stream",
     "text": [
      "Hi\n",
      "Mike\n"
     ]
    }
   ],
   "source": [
    "x = 1\n",
    "if(x!=1): \n",
    "\n",
    " print('Hello') \n",
    "\n",
    "else: \n",
    "\n",
    " print('Hi') \n",
    "\n",
    "print('Mike') "
   ]
  },
  {
   "cell_type": "code",
   "execution_count": 103,
   "id": "904df212-eeca-4fba-b2a6-4fa4d282d8cb",
   "metadata": {},
   "outputs": [
    {
     "data": {
      "text/plain": [
       "2"
      ]
     },
     "execution_count": 103,
     "metadata": {},
     "output_type": "execute_result"
    }
   ],
   "source": [
    "def add(x):\n",
    "    return(x+x)\n",
    "\n",
    "add(1)"
   ]
  },
  {
   "cell_type": "code",
   "execution_count": 104,
   "id": "2751e6a9-9541-4bb9-9cc1-8f9c6f6fb2fd",
   "metadata": {},
   "outputs": [
    {
     "name": "stdout",
     "output_type": "stream",
     "text": [
      "1\n",
      "3\n",
      "4\n"
     ]
    }
   ],
   "source": [
    "for i in range(1,5):\n",
    "    if(i!=2):\n",
    "        print(i)"
   ]
  },
  {
   "cell_type": "code",
   "execution_count": 105,
   "id": "725bff32-2248-4124-bb27-4a6d994df03d",
   "metadata": {},
   "outputs": [
    {
     "data": {
      "text/plain": [
       "array([0, 0, 0, 0, 0])"
      ]
     },
     "execution_count": 105,
     "metadata": {},
     "output_type": "execute_result"
    }
   ],
   "source": [
    "a=np.array([0,1,0,1,0]) \n",
    "\n",
    "b=np.array([1,0,1,0,1]) \n",
    "\n",
    "a*b "
   ]
  },
  {
   "cell_type": "code",
   "execution_count": 106,
   "id": "826badba-f643-4c57-860e-af1c2a049fc4",
   "metadata": {},
   "outputs": [
    {
     "data": {
      "text/plain": [
       "array([2, 2, 2, 2, 2])"
      ]
     },
     "execution_count": 106,
     "metadata": {},
     "output_type": "execute_result"
    }
   ],
   "source": [
    "a=np.array([1,1,1,1,1]) \n",
    "\n",
    "a+1"
   ]
  },
  {
   "cell_type": "code",
   "execution_count": null,
   "id": "e8ab761f-a24f-4b3f-b73d-48ab7856796a",
   "metadata": {},
   "outputs": [],
   "source": []
  }
 ],
 "metadata": {
  "kernelspec": {
   "display_name": "Python 3 (ipykernel)",
   "language": "python",
   "name": "python3"
  },
  "language_info": {
   "codemirror_mode": {
    "name": "ipython",
    "version": 3
   },
   "file_extension": ".py",
   "mimetype": "text/x-python",
   "name": "python",
   "nbconvert_exporter": "python",
   "pygments_lexer": "ipython3",
   "version": "3.11.9"
  }
 },
 "nbformat": 4,
 "nbformat_minor": 5
}
