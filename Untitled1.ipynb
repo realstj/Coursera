{
 "cells": [
  {
   "cell_type": "code",
   "execution_count": 13,
   "id": "0e9ffc64-1550-4a4e-b692-e1cd8cc27b40",
   "metadata": {},
   "outputs": [
    {
     "name": "stdout",
     "output_type": "stream",
     "text": [
      "\n",
      "Usage:   \n",
      "  pip install [options] <requirement specifier> [package-index-options] ...\n",
      "  pip install [options] -r <requirements file> [package-index-options] ...\n",
      "  pip install [options] [-e] <vcs project url> ...\n",
      "  pip install [options] [-e] <local project path> ...\n",
      "  pip install [options] <archive url/path> ...\n",
      "\n",
      "no such option: -y\n",
      "\n",
      "Usage:   \n",
      "  pip install [options] <requirement specifier> [package-index-options] ...\n",
      "  pip install [options] -r <requirements file> [package-index-options] ...\n",
      "  pip install [options] [-e] <vcs project url> ...\n",
      "  pip install [options] [-e] <local project path> ...\n",
      "  pip install [options] <archive url/path> ...\n",
      "\n",
      "no such option: -y\n",
      "Collecting lxml==4.6.4\n",
      "  Using cached lxml-4.6.4.tar.gz (3.2 MB)\n",
      "  Preparing metadata (setup.py) ... \u001b[?25ldone\n",
      "\u001b[?25hBuilding wheels for collected packages: lxml\n",
      "  Building wheel for lxml (setup.py) ... \u001b[?25lerror\n",
      "  \u001b[1;31merror\u001b[0m: \u001b[1msubprocess-exited-with-error\u001b[0m\n",
      "  \n",
      "  \u001b[31m×\u001b[0m \u001b[32mpython setup.py bdist_wheel\u001b[0m did not run successfully.\n",
      "  \u001b[31m│\u001b[0m exit code: \u001b[1;36m1\u001b[0m\n",
      "  \u001b[31m╰─>\u001b[0m \u001b[31m[108 lines of output]\u001b[0m\n",
      "  \u001b[31m   \u001b[0m Building lxml version 4.6.4.\n",
      "  \u001b[31m   \u001b[0m /private/var/folders/s3/9552g_5j4bg7zm2wcp_ldt4h0000gn/T/pip-install-frf1gag8/lxml_df76aef02a8c4af5b35233719aaf9183/setup.py:67: DeprecationWarning: pkg_resources is deprecated as an API. See https://setuptools.pypa.io/en/latest/pkg_resources.html\n",
      "  \u001b[31m   \u001b[0m   import pkg_resources\n",
      "  \u001b[31m   \u001b[0m Building without Cython.\n",
      "  \u001b[31m   \u001b[0m Building against libxml2 2.10.4 and libxslt 1.1.37\n",
      "  \u001b[31m   \u001b[0m Building against libxml2/libxslt in one of the following directories:\n",
      "  \u001b[31m   \u001b[0m   /Users/donkang/anaconda3/lib\n",
      "  \u001b[31m   \u001b[0m   /Users/donkang/anaconda3/lib\n",
      "  \u001b[31m   \u001b[0m   /Users/donkang/anaconda3/lib\n",
      "  \u001b[31m   \u001b[0m   /Users/donkang/anaconda3/lib\n",
      "  \u001b[31m   \u001b[0m   /Users/donkang/anaconda3/lib\n",
      "  \u001b[31m   \u001b[0m running bdist_wheel\n",
      "  \u001b[31m   \u001b[0m running build\n",
      "  \u001b[31m   \u001b[0m running build_py\n",
      "  \u001b[31m   \u001b[0m creating build\n",
      "  \u001b[31m   \u001b[0m creating build/lib.macosx-11.1-arm64-cpython-311\n",
      "  \u001b[31m   \u001b[0m creating build/lib.macosx-11.1-arm64-cpython-311/lxml\n",
      "  \u001b[31m   \u001b[0m copying src/lxml/_elementpath.py -> build/lib.macosx-11.1-arm64-cpython-311/lxml\n",
      "  \u001b[31m   \u001b[0m copying src/lxml/sax.py -> build/lib.macosx-11.1-arm64-cpython-311/lxml\n",
      "  \u001b[31m   \u001b[0m copying src/lxml/pyclasslookup.py -> build/lib.macosx-11.1-arm64-cpython-311/lxml\n",
      "  \u001b[31m   \u001b[0m copying src/lxml/__init__.py -> build/lib.macosx-11.1-arm64-cpython-311/lxml\n",
      "  \u001b[31m   \u001b[0m copying src/lxml/builder.py -> build/lib.macosx-11.1-arm64-cpython-311/lxml\n",
      "  \u001b[31m   \u001b[0m copying src/lxml/doctestcompare.py -> build/lib.macosx-11.1-arm64-cpython-311/lxml\n",
      "  \u001b[31m   \u001b[0m copying src/lxml/usedoctest.py -> build/lib.macosx-11.1-arm64-cpython-311/lxml\n",
      "  \u001b[31m   \u001b[0m copying src/lxml/cssselect.py -> build/lib.macosx-11.1-arm64-cpython-311/lxml\n",
      "  \u001b[31m   \u001b[0m copying src/lxml/ElementInclude.py -> build/lib.macosx-11.1-arm64-cpython-311/lxml\n",
      "  \u001b[31m   \u001b[0m creating build/lib.macosx-11.1-arm64-cpython-311/lxml/includes\n",
      "  \u001b[31m   \u001b[0m copying src/lxml/includes/__init__.py -> build/lib.macosx-11.1-arm64-cpython-311/lxml/includes\n",
      "  \u001b[31m   \u001b[0m creating build/lib.macosx-11.1-arm64-cpython-311/lxml/html\n",
      "  \u001b[31m   \u001b[0m copying src/lxml/html/soupparser.py -> build/lib.macosx-11.1-arm64-cpython-311/lxml/html\n",
      "  \u001b[31m   \u001b[0m copying src/lxml/html/defs.py -> build/lib.macosx-11.1-arm64-cpython-311/lxml/html\n",
      "  \u001b[31m   \u001b[0m copying src/lxml/html/_setmixin.py -> build/lib.macosx-11.1-arm64-cpython-311/lxml/html\n",
      "  \u001b[31m   \u001b[0m copying src/lxml/html/clean.py -> build/lib.macosx-11.1-arm64-cpython-311/lxml/html\n",
      "  \u001b[31m   \u001b[0m copying src/lxml/html/_diffcommand.py -> build/lib.macosx-11.1-arm64-cpython-311/lxml/html\n",
      "  \u001b[31m   \u001b[0m copying src/lxml/html/html5parser.py -> build/lib.macosx-11.1-arm64-cpython-311/lxml/html\n",
      "  \u001b[31m   \u001b[0m copying src/lxml/html/__init__.py -> build/lib.macosx-11.1-arm64-cpython-311/lxml/html\n",
      "  \u001b[31m   \u001b[0m copying src/lxml/html/formfill.py -> build/lib.macosx-11.1-arm64-cpython-311/lxml/html\n",
      "  \u001b[31m   \u001b[0m copying src/lxml/html/builder.py -> build/lib.macosx-11.1-arm64-cpython-311/lxml/html\n",
      "  \u001b[31m   \u001b[0m copying src/lxml/html/ElementSoup.py -> build/lib.macosx-11.1-arm64-cpython-311/lxml/html\n",
      "  \u001b[31m   \u001b[0m copying src/lxml/html/_html5builder.py -> build/lib.macosx-11.1-arm64-cpython-311/lxml/html\n",
      "  \u001b[31m   \u001b[0m copying src/lxml/html/usedoctest.py -> build/lib.macosx-11.1-arm64-cpython-311/lxml/html\n",
      "  \u001b[31m   \u001b[0m copying src/lxml/html/diff.py -> build/lib.macosx-11.1-arm64-cpython-311/lxml/html\n",
      "  \u001b[31m   \u001b[0m creating build/lib.macosx-11.1-arm64-cpython-311/lxml/isoschematron\n",
      "  \u001b[31m   \u001b[0m copying src/lxml/isoschematron/__init__.py -> build/lib.macosx-11.1-arm64-cpython-311/lxml/isoschematron\n",
      "  \u001b[31m   \u001b[0m copying src/lxml/etree.h -> build/lib.macosx-11.1-arm64-cpython-311/lxml\n",
      "  \u001b[31m   \u001b[0m copying src/lxml/etree_api.h -> build/lib.macosx-11.1-arm64-cpython-311/lxml\n",
      "  \u001b[31m   \u001b[0m copying src/lxml/lxml.etree.h -> build/lib.macosx-11.1-arm64-cpython-311/lxml\n",
      "  \u001b[31m   \u001b[0m copying src/lxml/lxml.etree_api.h -> build/lib.macosx-11.1-arm64-cpython-311/lxml\n",
      "  \u001b[31m   \u001b[0m copying src/lxml/includes/xmlerror.pxd -> build/lib.macosx-11.1-arm64-cpython-311/lxml/includes\n",
      "  \u001b[31m   \u001b[0m copying src/lxml/includes/c14n.pxd -> build/lib.macosx-11.1-arm64-cpython-311/lxml/includes\n",
      "  \u001b[31m   \u001b[0m copying src/lxml/includes/xmlschema.pxd -> build/lib.macosx-11.1-arm64-cpython-311/lxml/includes\n",
      "  \u001b[31m   \u001b[0m copying src/lxml/includes/__init__.pxd -> build/lib.macosx-11.1-arm64-cpython-311/lxml/includes\n",
      "  \u001b[31m   \u001b[0m copying src/lxml/includes/schematron.pxd -> build/lib.macosx-11.1-arm64-cpython-311/lxml/includes\n",
      "  \u001b[31m   \u001b[0m copying src/lxml/includes/tree.pxd -> build/lib.macosx-11.1-arm64-cpython-311/lxml/includes\n",
      "  \u001b[31m   \u001b[0m copying src/lxml/includes/uri.pxd -> build/lib.macosx-11.1-arm64-cpython-311/lxml/includes\n",
      "  \u001b[31m   \u001b[0m copying src/lxml/includes/etreepublic.pxd -> build/lib.macosx-11.1-arm64-cpython-311/lxml/includes\n",
      "  \u001b[31m   \u001b[0m copying src/lxml/includes/xpath.pxd -> build/lib.macosx-11.1-arm64-cpython-311/lxml/includes\n",
      "  \u001b[31m   \u001b[0m copying src/lxml/includes/htmlparser.pxd -> build/lib.macosx-11.1-arm64-cpython-311/lxml/includes\n",
      "  \u001b[31m   \u001b[0m copying src/lxml/includes/xslt.pxd -> build/lib.macosx-11.1-arm64-cpython-311/lxml/includes\n",
      "  \u001b[31m   \u001b[0m copying src/lxml/includes/config.pxd -> build/lib.macosx-11.1-arm64-cpython-311/lxml/includes\n",
      "  \u001b[31m   \u001b[0m copying src/lxml/includes/xmlparser.pxd -> build/lib.macosx-11.1-arm64-cpython-311/lxml/includes\n",
      "  \u001b[31m   \u001b[0m copying src/lxml/includes/xinclude.pxd -> build/lib.macosx-11.1-arm64-cpython-311/lxml/includes\n",
      "  \u001b[31m   \u001b[0m copying src/lxml/includes/dtdvalid.pxd -> build/lib.macosx-11.1-arm64-cpython-311/lxml/includes\n",
      "  \u001b[31m   \u001b[0m copying src/lxml/includes/relaxng.pxd -> build/lib.macosx-11.1-arm64-cpython-311/lxml/includes\n",
      "  \u001b[31m   \u001b[0m copying src/lxml/includes/lxml-version.h -> build/lib.macosx-11.1-arm64-cpython-311/lxml/includes\n",
      "  \u001b[31m   \u001b[0m copying src/lxml/includes/etree_defs.h -> build/lib.macosx-11.1-arm64-cpython-311/lxml/includes\n",
      "  \u001b[31m   \u001b[0m creating build/lib.macosx-11.1-arm64-cpython-311/lxml/isoschematron/resources\n",
      "  \u001b[31m   \u001b[0m creating build/lib.macosx-11.1-arm64-cpython-311/lxml/isoschematron/resources/rng\n",
      "  \u001b[31m   \u001b[0m copying src/lxml/isoschematron/resources/rng/iso-schematron.rng -> build/lib.macosx-11.1-arm64-cpython-311/lxml/isoschematron/resources/rng\n",
      "  \u001b[31m   \u001b[0m creating build/lib.macosx-11.1-arm64-cpython-311/lxml/isoschematron/resources/xsl\n",
      "  \u001b[31m   \u001b[0m copying src/lxml/isoschematron/resources/xsl/XSD2Schtrn.xsl -> build/lib.macosx-11.1-arm64-cpython-311/lxml/isoschematron/resources/xsl\n",
      "  \u001b[31m   \u001b[0m copying src/lxml/isoschematron/resources/xsl/RNG2Schtrn.xsl -> build/lib.macosx-11.1-arm64-cpython-311/lxml/isoschematron/resources/xsl\n",
      "  \u001b[31m   \u001b[0m creating build/lib.macosx-11.1-arm64-cpython-311/lxml/isoschematron/resources/xsl/iso-schematron-xslt1\n",
      "  \u001b[31m   \u001b[0m copying src/lxml/isoschematron/resources/xsl/iso-schematron-xslt1/iso_abstract_expand.xsl -> build/lib.macosx-11.1-arm64-cpython-311/lxml/isoschematron/resources/xsl/iso-schematron-xslt1\n",
      "  \u001b[31m   \u001b[0m copying src/lxml/isoschematron/resources/xsl/iso-schematron-xslt1/iso_dsdl_include.xsl -> build/lib.macosx-11.1-arm64-cpython-311/lxml/isoschematron/resources/xsl/iso-schematron-xslt1\n",
      "  \u001b[31m   \u001b[0m copying src/lxml/isoschematron/resources/xsl/iso-schematron-xslt1/iso_schematron_skeleton_for_xslt1.xsl -> build/lib.macosx-11.1-arm64-cpython-311/lxml/isoschematron/resources/xsl/iso-schematron-xslt1\n",
      "  \u001b[31m   \u001b[0m copying src/lxml/isoschematron/resources/xsl/iso-schematron-xslt1/iso_svrl_for_xslt1.xsl -> build/lib.macosx-11.1-arm64-cpython-311/lxml/isoschematron/resources/xsl/iso-schematron-xslt1\n",
      "  \u001b[31m   \u001b[0m copying src/lxml/isoschematron/resources/xsl/iso-schematron-xslt1/iso_schematron_message.xsl -> build/lib.macosx-11.1-arm64-cpython-311/lxml/isoschematron/resources/xsl/iso-schematron-xslt1\n",
      "  \u001b[31m   \u001b[0m copying src/lxml/isoschematron/resources/xsl/iso-schematron-xslt1/readme.txt -> build/lib.macosx-11.1-arm64-cpython-311/lxml/isoschematron/resources/xsl/iso-schematron-xslt1\n",
      "  \u001b[31m   \u001b[0m running build_ext\n",
      "  \u001b[31m   \u001b[0m building 'lxml.etree' extension\n",
      "  \u001b[31m   \u001b[0m creating build/temp.macosx-11.1-arm64-cpython-311\n",
      "  \u001b[31m   \u001b[0m creating build/temp.macosx-11.1-arm64-cpython-311/src\n",
      "  \u001b[31m   \u001b[0m creating build/temp.macosx-11.1-arm64-cpython-311/src/lxml\n",
      "  \u001b[31m   \u001b[0m clang -DNDEBUG -fwrapv -O2 -Wall -fPIC -O2 -isystem /Users/donkang/anaconda3/include -arch arm64 -fPIC -O2 -isystem /Users/donkang/anaconda3/include -arch arm64 -DCYTHON_CLINE_IN_TRACEBACK=0 -I/Users/donkang/anaconda3/include/libxml2 -I/Users/donkang/anaconda3/include -Isrc -Isrc/lxml/includes -I/Users/donkang/anaconda3/include/python3.11 -c src/lxml/etree.c -o build/temp.macosx-11.1-arm64-cpython-311/src/lxml/etree.o -w -flat_namespace\n",
      "  \u001b[31m   \u001b[0m src/lxml/etree.c:288:12: fatal error: 'longintrepr.h' file not found\n",
      "  \u001b[31m   \u001b[0m   #include \"longintrepr.h\"\n",
      "  \u001b[31m   \u001b[0m            ^~~~~~~~~~~~~~~\n",
      "  \u001b[31m   \u001b[0m 1 error generated.\n",
      "  \u001b[31m   \u001b[0m Compile failed: command '/usr/bin/clang' failed with exit code 1\n",
      "  \u001b[31m   \u001b[0m creating var\n",
      "  \u001b[31m   \u001b[0m creating var/folders\n",
      "  \u001b[31m   \u001b[0m creating var/folders/s3\n",
      "  \u001b[31m   \u001b[0m creating var/folders/s3/9552g_5j4bg7zm2wcp_ldt4h0000gn\n",
      "  \u001b[31m   \u001b[0m creating var/folders/s3/9552g_5j4bg7zm2wcp_ldt4h0000gn/T\n",
      "  \u001b[31m   \u001b[0m cc -I/Users/donkang/anaconda3/include/libxml2 -I/Users/donkang/anaconda3/include -I/usr/include/libxml2 -c /var/folders/s3/9552g_5j4bg7zm2wcp_ldt4h0000gn/T/xmlXPathInit1rl5bmqr.c -o var/folders/s3/9552g_5j4bg7zm2wcp_ldt4h0000gn/T/xmlXPathInit1rl5bmqr.o\n",
      "  \u001b[31m   \u001b[0m /var/folders/s3/9552g_5j4bg7zm2wcp_ldt4h0000gn/T/xmlXPathInit1rl5bmqr.c:3:5: warning: 'xmlXPathInit' is deprecated [-Wdeprecated-declarations]\n",
      "  \u001b[31m   \u001b[0m     xmlXPathInit();\n",
      "  \u001b[31m   \u001b[0m     ^\n",
      "  \u001b[31m   \u001b[0m /Users/donkang/anaconda3/include/libxml2/libxml/xpath.h:562:1: note: 'xmlXPathInit' has been explicitly marked deprecated here\n",
      "  \u001b[31m   \u001b[0m XML_DEPRECATED\n",
      "  \u001b[31m   \u001b[0m ^\n",
      "  \u001b[31m   \u001b[0m /Users/donkang/anaconda3/include/libxml2/libxml/xmlversion.h:464:43: note: expanded from macro 'XML_DEPRECATED'\n",
      "  \u001b[31m   \u001b[0m #    define XML_DEPRECATED __attribute__((deprecated))\n",
      "  \u001b[31m   \u001b[0m                                           ^\n",
      "  \u001b[31m   \u001b[0m 1 warning generated.\n",
      "  \u001b[31m   \u001b[0m cc var/folders/s3/9552g_5j4bg7zm2wcp_ldt4h0000gn/T/xmlXPathInit1rl5bmqr.o -L/Users/donkang/anaconda3/lib -L/Users/donkang/anaconda3/lib -L/Users/donkang/anaconda3/lib -L/Users/donkang/anaconda3/lib -L/Users/donkang/anaconda3/lib -lxml2 -o a.out\n",
      "  \u001b[31m   \u001b[0m error: command '/usr/bin/clang' failed with exit code 1\n",
      "  \u001b[31m   \u001b[0m \u001b[31m[end of output]\u001b[0m\n",
      "  \n",
      "  \u001b[1;35mnote\u001b[0m: This error originates from a subprocess, and is likely not a problem with pip.\n",
      "\u001b[31m  ERROR: Failed building wheel for lxml\u001b[0m\u001b[31m\n",
      "\u001b[0m\u001b[?25h  Running setup.py clean for lxml\n",
      "Failed to build lxml\n",
      "\u001b[31mERROR: Could not build wheels for lxml, which is required to install pyproject.toml-based projects\u001b[0m\u001b[31m\n",
      "\u001b[0m"
     ]
    }
   ],
   "source": [
    "#!pip install pandas==1.3.3\n",
    "#!pip install requests==2.26.0\n",
    "!pip install bs4==4.10.0 -y\n",
    "!pip install html5lib==1.1 -y \n",
    "!pip install lxml==4.6.4\n",
    "#!pip install plotly==5.3.1"
   ]
  },
  {
   "cell_type": "code",
   "execution_count": 15,
   "id": "09330d5b-19e4-4309-b141-30101f284159",
   "metadata": {},
   "outputs": [],
   "source": [
    "import pandas as pd\n",
    "import requests\n",
    "from bs4 import BeautifulSoup"
   ]
  },
  {
   "cell_type": "code",
   "execution_count": 9,
   "id": "e060f495-2299-4652-8853-f6f9c8e9c11f",
   "metadata": {},
   "outputs": [],
   "source": [
    "import warnings\n",
    "# Ignore all warnings\n",
    "warnings.filterwarnings(\"ignore\", category=FutureWarning)"
   ]
  },
  {
   "cell_type": "code",
   "execution_count": 10,
   "id": "cff4dc3c-b776-4386-b76c-d53c6b93d388",
   "metadata": {},
   "outputs": [],
   "source": [
    "url = \"https://cf-courses-data.s3.us.cloud-object-storage.appdomain.cloud/IBMDeveloperSkillsNetwork-PY0220EN-SkillsNetwork/labs/project/netflix_data_webpage.html\""
   ]
  },
  {
   "cell_type": "code",
   "execution_count": 11,
   "id": "1c3c95ad-1df8-4fd9-83eb-831827915ded",
   "metadata": {},
   "outputs": [],
   "source": [
    "data  = requests.get(url).text"
   ]
  },
  {
   "cell_type": "code",
   "execution_count": 16,
   "id": "01852e79-4698-4876-afda-d586a97ca0e4",
   "metadata": {},
   "outputs": [
    {
     "ename": "FeatureNotFound",
     "evalue": "Couldn't find a tree builder with the features you requested: html5lib. Do you need to install a parser library?",
     "output_type": "error",
     "traceback": [
      "\u001b[0;31m---------------------------------------------------------------------------\u001b[0m",
      "\u001b[0;31mFeatureNotFound\u001b[0m                           Traceback (most recent call last)",
      "Cell \u001b[0;32mIn[16], line 1\u001b[0m\n\u001b[0;32m----> 1\u001b[0m soup \u001b[38;5;241m=\u001b[39m BeautifulSoup(data, \u001b[38;5;124m'\u001b[39m\u001b[38;5;124mhtml5lib\u001b[39m\u001b[38;5;124m'\u001b[39m)\n",
      "File \u001b[0;32m~/anaconda3/lib/python3.11/site-packages/bs4/__init__.py:250\u001b[0m, in \u001b[0;36mBeautifulSoup.__init__\u001b[0;34m(self, markup, features, builder, parse_only, from_encoding, exclude_encodings, element_classes, **kwargs)\u001b[0m\n\u001b[1;32m    248\u001b[0m     builder_class \u001b[38;5;241m=\u001b[39m builder_registry\u001b[38;5;241m.\u001b[39mlookup(\u001b[38;5;241m*\u001b[39mfeatures)\n\u001b[1;32m    249\u001b[0m     \u001b[38;5;28;01mif\u001b[39;00m builder_class \u001b[38;5;129;01mis\u001b[39;00m \u001b[38;5;28;01mNone\u001b[39;00m:\n\u001b[0;32m--> 250\u001b[0m         \u001b[38;5;28;01mraise\u001b[39;00m FeatureNotFound(\n\u001b[1;32m    251\u001b[0m             \u001b[38;5;124m\"\u001b[39m\u001b[38;5;124mCouldn\u001b[39m\u001b[38;5;124m'\u001b[39m\u001b[38;5;124mt find a tree builder with the features you \u001b[39m\u001b[38;5;124m\"\u001b[39m\n\u001b[1;32m    252\u001b[0m             \u001b[38;5;124m\"\u001b[39m\u001b[38;5;124mrequested: \u001b[39m\u001b[38;5;132;01m%s\u001b[39;00m\u001b[38;5;124m. Do you need to install a parser library?\u001b[39m\u001b[38;5;124m\"\u001b[39m\n\u001b[1;32m    253\u001b[0m             \u001b[38;5;241m%\u001b[39m \u001b[38;5;124m\"\u001b[39m\u001b[38;5;124m,\u001b[39m\u001b[38;5;124m\"\u001b[39m\u001b[38;5;241m.\u001b[39mjoin(features))\n\u001b[1;32m    255\u001b[0m \u001b[38;5;66;03m# At this point either we have a TreeBuilder instance in\u001b[39;00m\n\u001b[1;32m    256\u001b[0m \u001b[38;5;66;03m# builder, or we have a builder_class that we can instantiate\u001b[39;00m\n\u001b[1;32m    257\u001b[0m \u001b[38;5;66;03m# with the remaining **kwargs.\u001b[39;00m\n\u001b[1;32m    258\u001b[0m \u001b[38;5;28;01mif\u001b[39;00m builder \u001b[38;5;129;01mis\u001b[39;00m \u001b[38;5;28;01mNone\u001b[39;00m:\n",
      "\u001b[0;31mFeatureNotFound\u001b[0m: Couldn't find a tree builder with the features you requested: html5lib. Do you need to install a parser library?"
     ]
    }
   ],
   "source": [
    "soup = BeautifulSoup(data, 'html5lib')"
   ]
  },
  {
   "cell_type": "code",
   "execution_count": 17,
   "id": "763136fa-7004-4fb0-82a5-0a0344c30865",
   "metadata": {},
   "outputs": [],
   "source": [
    "netflix_data = pd.DataFrame(columns=[\"Date\", \"Open\", \"High\", \"Low\", \"Close\", \"Volume\"])"
   ]
  },
  {
   "cell_type": "code",
   "execution_count": 18,
   "id": "b69d2289-4e3b-4250-9c21-95e23a47602f",
   "metadata": {},
   "outputs": [
    {
     "ename": "NameError",
     "evalue": "name 'soup' is not defined",
     "output_type": "error",
     "traceback": [
      "\u001b[0;31m---------------------------------------------------------------------------\u001b[0m",
      "\u001b[0;31mNameError\u001b[0m                                 Traceback (most recent call last)",
      "Cell \u001b[0;32mIn[18], line 3\u001b[0m\n\u001b[1;32m      1\u001b[0m \u001b[38;5;66;03m# First we isolate the body of the table which contains all the information\u001b[39;00m\n\u001b[1;32m      2\u001b[0m \u001b[38;5;66;03m# Then we loop through each row and find all the column values for each row\u001b[39;00m\n\u001b[0;32m----> 3\u001b[0m \u001b[38;5;28;01mfor\u001b[39;00m row \u001b[38;5;129;01min\u001b[39;00m soup\u001b[38;5;241m.\u001b[39mfind(\u001b[38;5;124m\"\u001b[39m\u001b[38;5;124mtbody\u001b[39m\u001b[38;5;124m\"\u001b[39m)\u001b[38;5;241m.\u001b[39mfind_all(\u001b[38;5;124m'\u001b[39m\u001b[38;5;124mtr\u001b[39m\u001b[38;5;124m'\u001b[39m):\n\u001b[1;32m      4\u001b[0m     col \u001b[38;5;241m=\u001b[39m row\u001b[38;5;241m.\u001b[39mfind_all(\u001b[38;5;124m\"\u001b[39m\u001b[38;5;124mtd\u001b[39m\u001b[38;5;124m\"\u001b[39m)\n\u001b[1;32m      5\u001b[0m     date \u001b[38;5;241m=\u001b[39m col[\u001b[38;5;241m0\u001b[39m]\u001b[38;5;241m.\u001b[39mtext\n",
      "\u001b[0;31mNameError\u001b[0m: name 'soup' is not defined"
     ]
    }
   ],
   "source": [
    "# First we isolate the body of the table which contains all the information\n",
    "# Then we loop through each row and find all the column values for each row\n",
    "for row in soup.find(\"tbody\").find_all('tr'):\n",
    "    col = row.find_all(\"td\")\n",
    "    date = col[0].text\n",
    "    Open = col[1].text\n",
    "    high = col[2].text\n",
    "    low = col[3].text\n",
    "    close = col[4].text\n",
    "    adj_close = col[5].text\n",
    "    volume = col[6].text\n",
    "    \n",
    "    # Finally we append the data of each row to the table\n",
    "    netflix_data = netflix_data.append({\"Date\":date, \"Open\":Open, \"High\":high, \"Low\":low, \"Close\":close, \"Adj Close\":adj_close, \"Volume\":volume}, ignore_index=True)    "
   ]
  },
  {
   "cell_type": "code",
   "execution_count": 19,
   "id": "4e4494d8-a33b-4241-94c2-cbb7a3ce913a",
   "metadata": {},
   "outputs": [
    {
     "data": {
      "text/html": [
       "<div>\n",
       "<style scoped>\n",
       "    .dataframe tbody tr th:only-of-type {\n",
       "        vertical-align: middle;\n",
       "    }\n",
       "\n",
       "    .dataframe tbody tr th {\n",
       "        vertical-align: top;\n",
       "    }\n",
       "\n",
       "    .dataframe thead th {\n",
       "        text-align: right;\n",
       "    }\n",
       "</style>\n",
       "<table border=\"1\" class=\"dataframe\">\n",
       "  <thead>\n",
       "    <tr style=\"text-align: right;\">\n",
       "      <th></th>\n",
       "      <th>Date</th>\n",
       "      <th>Open</th>\n",
       "      <th>High</th>\n",
       "      <th>Low</th>\n",
       "      <th>Close</th>\n",
       "      <th>Volume</th>\n",
       "    </tr>\n",
       "  </thead>\n",
       "  <tbody>\n",
       "  </tbody>\n",
       "</table>\n",
       "</div>"
      ],
      "text/plain": [
       "Empty DataFrame\n",
       "Columns: [Date, Open, High, Low, Close, Volume]\n",
       "Index: []"
      ]
     },
     "execution_count": 19,
     "metadata": {},
     "output_type": "execute_result"
    }
   ],
   "source": [
    "netflix_data.head()"
   ]
  },
  {
   "cell_type": "code",
   "execution_count": 20,
   "id": "3c480708-437f-437e-83e9-eb59f0fff758",
   "metadata": {},
   "outputs": [],
   "source": [
    "read_html_pandas_data = pd.read_html(url)"
   ]
  },
  {
   "cell_type": "code",
   "execution_count": 21,
   "id": "5fae84a1-7557-48d7-88c1-1cd592bf9e6c",
   "metadata": {},
   "outputs": [
    {
     "ename": "NameError",
     "evalue": "name 'soup' is not defined",
     "output_type": "error",
     "traceback": [
      "\u001b[0;31m---------------------------------------------------------------------------\u001b[0m",
      "\u001b[0;31mNameError\u001b[0m                                 Traceback (most recent call last)",
      "Cell \u001b[0;32mIn[21], line 1\u001b[0m\n\u001b[0;32m----> 1\u001b[0m read_html_pandas_data \u001b[38;5;241m=\u001b[39m pd\u001b[38;5;241m.\u001b[39mread_html(\u001b[38;5;28mstr\u001b[39m(soup))\n",
      "\u001b[0;31mNameError\u001b[0m: name 'soup' is not defined"
     ]
    }
   ],
   "source": [
    "read_html_pandas_data = pd.read_html(str(soup))"
   ]
  },
  {
   "cell_type": "code",
   "execution_count": 22,
   "id": "08d3a3c3-fd9d-4533-b6f1-cae38f8832ef",
   "metadata": {},
   "outputs": [
    {
     "data": {
      "text/html": [
       "<div>\n",
       "<style scoped>\n",
       "    .dataframe tbody tr th:only-of-type {\n",
       "        vertical-align: middle;\n",
       "    }\n",
       "\n",
       "    .dataframe tbody tr th {\n",
       "        vertical-align: top;\n",
       "    }\n",
       "\n",
       "    .dataframe thead th {\n",
       "        text-align: right;\n",
       "    }\n",
       "</style>\n",
       "<table border=\"1\" class=\"dataframe\">\n",
       "  <thead>\n",
       "    <tr style=\"text-align: right;\">\n",
       "      <th></th>\n",
       "      <th>Date</th>\n",
       "      <th>Open</th>\n",
       "      <th>High</th>\n",
       "      <th>Low</th>\n",
       "      <th>Close*</th>\n",
       "      <th>Adj Close**</th>\n",
       "      <th>Volume</th>\n",
       "    </tr>\n",
       "  </thead>\n",
       "  <tbody>\n",
       "    <tr>\n",
       "      <th>0</th>\n",
       "      <td>Jun 01, 2021</td>\n",
       "      <td>504.01</td>\n",
       "      <td>536.13</td>\n",
       "      <td>482.14</td>\n",
       "      <td>528.21</td>\n",
       "      <td>528.21</td>\n",
       "      <td>78560600</td>\n",
       "    </tr>\n",
       "    <tr>\n",
       "      <th>1</th>\n",
       "      <td>May 01, 2021</td>\n",
       "      <td>512.65</td>\n",
       "      <td>518.95</td>\n",
       "      <td>478.54</td>\n",
       "      <td>502.81</td>\n",
       "      <td>502.81</td>\n",
       "      <td>66927600</td>\n",
       "    </tr>\n",
       "    <tr>\n",
       "      <th>2</th>\n",
       "      <td>Apr 01, 2021</td>\n",
       "      <td>529.93</td>\n",
       "      <td>563.56</td>\n",
       "      <td>499.00</td>\n",
       "      <td>513.47</td>\n",
       "      <td>513.47</td>\n",
       "      <td>111573300</td>\n",
       "    </tr>\n",
       "    <tr>\n",
       "      <th>3</th>\n",
       "      <td>Mar 01, 2021</td>\n",
       "      <td>545.57</td>\n",
       "      <td>556.99</td>\n",
       "      <td>492.85</td>\n",
       "      <td>521.66</td>\n",
       "      <td>521.66</td>\n",
       "      <td>90183900</td>\n",
       "    </tr>\n",
       "    <tr>\n",
       "      <th>4</th>\n",
       "      <td>Feb 01, 2021</td>\n",
       "      <td>536.79</td>\n",
       "      <td>566.65</td>\n",
       "      <td>518.28</td>\n",
       "      <td>538.85</td>\n",
       "      <td>538.85</td>\n",
       "      <td>61902300</td>\n",
       "    </tr>\n",
       "  </tbody>\n",
       "</table>\n",
       "</div>"
      ],
      "text/plain": [
       "           Date    Open    High     Low  Close* Adj Close**     Volume\n",
       "0  Jun 01, 2021  504.01  536.13  482.14  528.21      528.21   78560600\n",
       "1  May 01, 2021  512.65  518.95  478.54  502.81      502.81   66927600\n",
       "2  Apr 01, 2021  529.93  563.56  499.00  513.47      513.47  111573300\n",
       "3  Mar 01, 2021  545.57  556.99  492.85  521.66      521.66   90183900\n",
       "4  Feb 01, 2021  536.79  566.65  518.28  538.85      538.85   61902300"
      ]
     },
     "execution_count": 22,
     "metadata": {},
     "output_type": "execute_result"
    }
   ],
   "source": [
    "netflix_dataframe = read_html_pandas_data[0]\n",
    "\n",
    "netflix_dataframe.head()"
   ]
  },
  {
   "cell_type": "code",
   "execution_count": null,
   "id": "9b0c7e36-1ca6-4683-aab8-a7770136a81d",
   "metadata": {},
   "outputs": [],
   "source": []
  }
 ],
 "metadata": {
  "kernelspec": {
   "display_name": "Python 3 (ipykernel)",
   "language": "python",
   "name": "python3"
  },
  "language_info": {
   "codemirror_mode": {
    "name": "ipython",
    "version": 3
   },
   "file_extension": ".py",
   "mimetype": "text/x-python",
   "name": "python",
   "nbconvert_exporter": "python",
   "pygments_lexer": "ipython3",
   "version": "3.11.9"
  }
 },
 "nbformat": 4,
 "nbformat_minor": 5
}
