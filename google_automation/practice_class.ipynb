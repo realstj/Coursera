{
 "cells": [
  {
   "cell_type": "code",
   "execution_count": 2,
   "id": "6e19692e-9e19-4db5-a464-c1d8447117fd",
   "metadata": {},
   "outputs": [
    {
     "name": "stdout",
     "output_type": "stream",
     "text": [
      "sweet\n",
      "tart\n"
     ]
    }
   ],
   "source": [
    "class Apple:\n",
    "    def __init__(self, color, flavor):\n",
    "        self.color = color\n",
    "        self.flavor = flavor\n",
    "\n",
    "honeycrisp = Apple(\"red\", \"sweet\")\n",
    "fuji = Apple(\"red\", \"tart\")\n",
    "print(honeycrisp.flavor)\n",
    "print(fuji.flavor)\n",
    "\n",
    "# prints \"sweet\" and \"tart\""
   ]
  },
  {
   "cell_type": "code",
   "execution_count": 3,
   "id": "8cdd1775-baf5-48df-a2af-f092dcda72fc",
   "metadata": {},
   "outputs": [
    {
     "name": "stdout",
     "output_type": "stream",
     "text": [
      "an apple which is red and sweet\n"
     ]
    }
   ],
   "source": [
    "class Apple:\n",
    "    def __init__(self, color, flavor):\n",
    "        self.color = color\n",
    "        self.flavor = flavor\n",
    "\n",
    "    def __str__(self):\n",
    "        return \"an apple which is {} and {}\".format(self.color, self.flavor)\n",
    "\n",
    "honeycrisp = Apple(\"red\", \"sweet\")\n",
    "print(honeycrisp)\n",
    "\n",
    "# prints \"an apple which is red and sweet\""
   ]
  },
  {
   "cell_type": "code",
   "execution_count": 4,
   "id": "31b2816d-3582-4bef-b133-881aec596555",
   "metadata": {},
   "outputs": [],
   "source": [
    "class Apple:\n",
    "    def __init__(self, color, flavor):\n",
    "        self.color = color\n",
    "        self.flavor = flavor\n",
    "    def __str__(self):\n",
    "        return \"This apple is {} and its flavor is {}\".format(self.color, self.flavor)\n"
   ]
  },
  {
   "cell_type": "code",
   "execution_count": 5,
   "id": "c99e77c8-3bf8-4bf7-9624-b22ef116f1cb",
   "metadata": {},
   "outputs": [
    {
     "name": "stdout",
     "output_type": "stream",
     "text": [
      "This apple is red and its flavor is sweet\n"
     ]
    }
   ],
   "source": [
    "jonagold = Apple(\"red\", \"sweet\")\n",
    "print(jonagold)\n"
   ]
  },
  {
   "cell_type": "code",
   "execution_count": 9,
   "id": "d70dd188-8342-4c10-840e-3fb5ecd84c51",
   "metadata": {},
   "outputs": [],
   "source": [
    "class Triangle:\n",
    "    def __init__(self, base, height):\n",
    "        self.base = base\n",
    "        self.height = height\n",
    "    def area(self):\n",
    "        return 0.5 * self.base * self.height\n",
    "    def __add__(self, other):\n",
    "        return self.area() + other.area()"
   ]
  },
  {
   "cell_type": "code",
   "execution_count": 10,
   "id": "ab6866ab-422d-46bc-aa35-cf49e8f71b85",
   "metadata": {},
   "outputs": [
    {
     "name": "stdout",
     "output_type": "stream",
     "text": [
      "The area of triangle 1 is 25.0\n"
     ]
    }
   ],
   "source": [
    "triangle1 = Triangle(10, 5)\n",
    "print(\"The area of triangle 1 is\", triangle1.area())"
   ]
  },
  {
   "cell_type": "code",
   "execution_count": 11,
   "id": "201ca7b9-ea88-4d84-9061-600782ac86fc",
   "metadata": {},
   "outputs": [
    {
     "name": "stdout",
     "output_type": "stream",
     "text": [
      "The area of triangle 2 is 24.0\n"
     ]
    }
   ],
   "source": [
    "triangle2 = Triangle(6, 8)\n",
    "print(\"The area of triangle 2 is\", triangle2.area())"
   ]
  },
  {
   "cell_type": "code",
   "execution_count": 12,
   "id": "78b01be5-4436-4812-a2ad-c08a365a1c31",
   "metadata": {},
   "outputs": [
    {
     "name": "stdout",
     "output_type": "stream",
     "text": [
      "The area of both triangles is 49.0\n"
     ]
    }
   ],
   "source": [
    "print(\"The area of both triangles is\", triangle1 + triangle2)"
   ]
  },
  {
   "cell_type": "code",
   "execution_count": null,
   "id": "d92d77a5-bd42-470f-a937-8f54916f3f1d",
   "metadata": {},
   "outputs": [],
   "source": []
  }
 ],
 "metadata": {
  "kernelspec": {
   "display_name": "Python 3 (ipykernel)",
   "language": "python",
   "name": "python3"
  },
  "language_info": {
   "codemirror_mode": {
    "name": "ipython",
    "version": 3
   },
   "file_extension": ".py",
   "mimetype": "text/x-python",
   "name": "python",
   "nbconvert_exporter": "python",
   "pygments_lexer": "ipython3",
   "version": "3.11.9"
  }
 },
 "nbformat": 4,
 "nbformat_minor": 5
}
