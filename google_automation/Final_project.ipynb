{
 "cells": [
  {
   "cell_type": "code",
   "execution_count": 1,
   "id": "9877de6c-e40c-4221-a656-3ef03ba67d04",
   "metadata": {
    "panel-layout": {
     "height": 0,
     "visible": true,
     "width": 100
    }
   },
   "outputs": [
    {
     "name": "stdout",
     "output_type": "stream",
     "text": [
      "[1, 2, 4, 6, 7]\n"
     ]
    }
   ],
   "source": [
    "numbers = [ 4, 6, 2, 7, 1 ]\n",
    "numbers.sort()\n",
    "print(numbers)"
   ]
  },
  {
   "cell_type": "code",
   "execution_count": 2,
   "id": "123639ac-04d6-4663-a715-17eb1fb6f9f2",
   "metadata": {
    "panel-layout": {
     "height": 0,
     "visible": true,
     "width": 100
    }
   },
   "outputs": [
    {
     "name": "stdout",
     "output_type": "stream",
     "text": [
      "['Alex', 'Carlos', 'Kelly', 'Ray']\n",
      "['Carlos', 'Ray', 'Alex', 'Kelly']\n",
      "['Ray', 'Alex', 'Kelly', 'Carlos']\n"
     ]
    }
   ],
   "source": [
    "names = [\"Carlos\", \"Ray\", \"Alex\", \"Kelly\"]\n",
    "print(sorted(names))\n",
    "print(names)\n",
    "print(sorted(names, key=len))"
   ]
  },
  {
   "cell_type": "code",
   "execution_count": 3,
   "id": "e5fc93e3-1c68-4087-93d7-e967b9aaa753",
   "metadata": {},
   "outputs": [],
   "source": [
    "def current_users(events):\n",
    "  events.sort(key=get_event_date)\n",
    "  machines = {}\n",
    "  for event in events:\n",
    "    if event.machine not in machines:\n",
    "      machines[event.machine] = set()\n",
    "    if event.type == \"login\":\n",
    "      machines[event.machine].add(event.user)\n",
    "    elif event.type == \"logout\":\n",
    "      machines[event.machine].remove(event.user)\n",
    "  return machines"
   ]
  },
  {
   "cell_type": "code",
   "execution_count": 4,
   "id": "6afe3a43-340b-4ff0-b451-d57a632fef66",
   "metadata": {},
   "outputs": [],
   "source": [
    "def generate_report(machines):\n",
    "  for machine, users in machines.items():\n",
    "    if len(users) > 0:\n",
    "      user_list = \", \".join(users)\n",
    "      print(\"{}: {}\".format(machine, user_list))"
   ]
  },
  {
   "cell_type": "code",
   "execution_count": 5,
   "id": "fb160eb8-fe56-426e-8285-eee2b80a77a7",
   "metadata": {},
   "outputs": [],
   "source": [
    "def get_event_date(event):\n",
    "\treturn event.date"
   ]
  },
  {
   "cell_type": "code",
   "execution_count": 6,
   "id": "391d7a1e-9af7-4809-af51-abc3e119f678",
   "metadata": {},
   "outputs": [],
   "source": [
    "def current_users(events):\n",
    "    events.sort(key=get_event_date)\n",
    "    machines = {}\n",
    "    for event in events:\n",
    "        if event.machine not in machines:\n",
    "            machines[event.machine] = set()\n",
    "        if event.type == \"login\":\n",
    "            machines[event.machine].add(event.user)\n",
    "        elif event.type == \"logout\":\n",
    "            machines[event.machine].remove(event.user)\n",
    "    return machines"
   ]
  },
  {
   "cell_type": "code",
   "execution_count": 11,
   "id": "afa775e4-3297-43da-ae6f-eda69c8ab7ba",
   "metadata": {},
   "outputs": [],
   "source": [
    "def generate_report(machines):\n",
    "    for machine, users in machines.items():\n",
    "        if len(users) > 0:\n",
    "            user_list = \",\".join(users)\n",
    "        print(\"{}: {}\".format(machine, user_list))"
   ]
  },
  {
   "cell_type": "code",
   "execution_count": 12,
   "id": "b8a76f54-b882-4d80-90ad-18b6ffc3cb5c",
   "metadata": {
    "editable": true,
    "panel-layout": {
     "height": 0,
     "visible": true,
     "width": 100
    },
    "slideshow": {
     "slide_type": ""
    },
    "tags": []
   },
   "outputs": [
    {
     "name": "stdout",
     "output_type": "stream",
     "text": [
      "{'webserver.local': {'lane'}, 'myworkstation.local': set(), 'mailserver.local': {'chris'}}\n",
      "webserver.local: lane\n",
      "mailserver.local: chris\n"
     ]
    }
   ],
   "source": [
    "def get_event_date(event):\n",
    "  return event.date\n",
    "\n",
    "def current_users(events):\n",
    "  events.sort(key=get_event_date)\n",
    "  machines = {}\n",
    "  for event in events:\n",
    "    if event.machine not in machines:\n",
    "      machines[event.machine] = set()\n",
    "    if event.type == \"login\":\n",
    "      machines[event.machine].add(event.user)\n",
    "    elif event.type == \"logout\":\n",
    "      machines[event.machine].remove(event.user)\n",
    "  return machines\n",
    "\n",
    "def generate_report(machines):\n",
    "  for machine, users in machines.items():\n",
    "    if len(users) > 0:\n",
    "      user_list = \", \".join(users)\n",
    "      print(\"{}: {}\".format(machine, user_list))\n",
    "\n",
    "class Event:\n",
    "  def __init__(self, event_date, event_type, machine_name, user):\n",
    "    self.date = event_date\n",
    "    self.type = event_type\n",
    "    self.machine = machine_name\n",
    "    self.user = user\n",
    "\n",
    "events = [\n",
    "  Event('2020-01-21 12:45:46', 'login', 'myworkstation.local', 'jordan'),\n",
    "  Event('2020-01-22 15:53:42', 'logout', 'webserver.local', 'jordan'),\n",
    "  Event('2020-01-21 18:53:21', 'login', 'webserver.local', 'lane'),\n",
    "  Event('2020-01-22 10:25:34', 'logout', 'myworkstation.local', 'jordan'),\n",
    "  Event('2020-01-21 08:20:01', 'login', 'webserver.local', 'jordan'),\n",
    "  Event('2020-01-23 11:24:35', 'login', 'mailserver.local', 'chris'),\n",
    "]\n",
    "\n",
    "users = current_users(events)\n",
    "print(users)\n",
    "\n",
    "generate_report(users)"
   ]
  },
  {
   "cell_type": "code",
   "execution_count": null,
   "id": "58c6e79b-46b4-4a10-b64c-3c0f26ac5037",
   "metadata": {},
   "outputs": [],
   "source": [
    "import csv\n",
    "import secrets\n",
    "import subprocess\n",
    "from pathlib import Path   # to locate the data files"
   ]
  },
  {
   "cell_type": "code",
   "execution_count": null,
   "id": "708a2a10-3a5c-42c8-b48f-7b337a4522e2",
   "metadata": {},
   "outputs": [],
   "source": [
    "cwd = Path.cwd() / \"drive/MyDrive/Colab Notebooks\"\n",
    "with open(cwd / \"data/users_in.csv\", \"r\") as file_input, open(cwd / \"data/users_out.csv\", \"w\") as file_output:\n",
    "reader = csv.DictReader(file_input)\n",
    "writer = csv.DictWriter(file_output,fieldnames=reader.fieldnames)\n",
    "writer.writeheader()\n",
    "for user in reader:\n",
    "    user[\"password\"] = secrets.token_hex(8)\n",
    "        useradd_cmd = [\"/sbin/useradd\",\n",
    "                       \"-c\", user[\"real_name\"],\n",
    "                       \"-m\",\n",
    "                       \"-G\", \"users\",\n",
    "                       \"-p\", user[\"password\"],\n",
    "                       user[\"username\"]]\n",
    "        subprocess.run(useradd_cmd, check=True)\n",
    "    writer.writerow(user)"
   ]
  }
 ],
 "metadata": {
  "kernelspec": {
   "display_name": "Python 3 (ipykernel)",
   "language": "python",
   "name": "python3"
  },
  "language_info": {
   "codemirror_mode": {
    "name": "ipython",
    "version": 3
   },
   "file_extension": ".py",
   "mimetype": "text/x-python",
   "name": "python",
   "nbconvert_exporter": "python",
   "pygments_lexer": "ipython3",
   "version": "3.11.9"
  },
  "panel-cell-order": [
   "9877de6c-e40c-4221-a656-3ef03ba67d04",
   "123639ac-04d6-4663-a715-17eb1fb6f9f2",
   "b8a76f54-b882-4d80-90ad-18b6ffc3cb5c"
  ]
 },
 "nbformat": 4,
 "nbformat_minor": 5
}
